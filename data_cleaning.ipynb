{
 "cells": [
  {
   "cell_type": "markdown",
   "metadata": {},
   "source": [
    "# Data Cleaning\n",
    "\n",
    "Preprocessing the data - starting with the raw data from the Sentiment140 dataset, unaltered.\n",
    "Remove unwanted characters/tokens, filter uninformative data entries"
   ]
  },
  {
   "cell_type": "code",
   "execution_count": 1,
   "metadata": {},
   "outputs": [
    {
     "name": "stderr",
     "output_type": "stream",
     "text": [
      "c:\\Users\\thel0\\OneDrive\\Desktop\\Sent Analysis\\venv\\lib\\site-packages\\tqdm\\auto.py:21: TqdmWarning: IProgress not found. Please update jupyter and ipywidgets. See https://ipywidgets.readthedocs.io/en/stable/user_install.html\n",
      "  from .autonotebook import tqdm as notebook_tqdm\n"
     ]
    }
   ],
   "source": [
    "import numpy as np\n",
    "import pandas as pd\n",
    "import matplotlib.pyplot as plt\n",
    "import seaborn as sns\n",
    "import re, string\n",
    "import html\n",
    "\n",
    "from IPython.display import Markdown as md\n",
    "from tqdm import tqdm\n",
    "\n",
    "# DistilBert Tokenizer\n",
    "from transformers import DistilBertTokenizer"
   ]
  },
  {
   "cell_type": "code",
   "execution_count": 2,
   "metadata": {},
   "outputs": [
    {
     "data": {
      "text/plain": [
       "<Figure size 640x480 with 0 Axes>"
      ]
     },
     "metadata": {},
     "output_type": "display_data"
    }
   ],
   "source": [
    "# Set style for plots\n",
    "sns.set_style(\"whitegrid\")\n",
    "sns.despine()\n",
    "plt.style.use(\"classic\")\n",
    "plt.rc(\"figure\", autolayout=True)\n",
    "plt.rc(\"axes\", labelweight=\"bold\", labelsize=\"large\", titleweight=\"bold\", titlepad=10)"
   ]
  },
  {
   "cell_type": "code",
   "execution_count": 3,
   "metadata": {},
   "outputs": [],
   "source": [
    "# Optional (depends on monitor)\n",
    "pd.set_option('max_colwidth', 800)\n",
    "\n",
    "# tqdm progress bar for pandas methods\n",
    "tqdm.pandas()"
   ]
  },
  {
   "cell_type": "code",
   "execution_count": 4,
   "metadata": {},
   "outputs": [],
   "source": [
    "# Reading in data\n",
    "df = pd.read_csv('data_unchanged.csv', names=['label', 'n1', 'n2', 'n3', 'n4', 'data'],\n",
    "                   usecols=['label', 'data'],\n",
    "                   encoding='latin-1')"
   ]
  },
  {
   "cell_type": "markdown",
   "metadata": {},
   "source": [
    "### First Look at Data:"
   ]
  },
  {
   "cell_type": "code",
   "execution_count": 5,
   "metadata": {},
   "outputs": [
    {
     "data": {
      "text/plain": [
       "(1600000, 2)"
      ]
     },
     "execution_count": 5,
     "metadata": {},
     "output_type": "execute_result"
    }
   ],
   "source": [
    "df.shape"
   ]
  },
  {
   "cell_type": "code",
   "execution_count": 6,
   "metadata": {},
   "outputs": [
    {
     "data": {
      "text/html": [
       "<div>\n",
       "<style scoped>\n",
       "    .dataframe tbody tr th:only-of-type {\n",
       "        vertical-align: middle;\n",
       "    }\n",
       "\n",
       "    .dataframe tbody tr th {\n",
       "        vertical-align: top;\n",
       "    }\n",
       "\n",
       "    .dataframe thead th {\n",
       "        text-align: right;\n",
       "    }\n",
       "</style>\n",
       "<table border=\"1\" class=\"dataframe\">\n",
       "  <thead>\n",
       "    <tr style=\"text-align: right;\">\n",
       "      <th></th>\n",
       "      <th>label</th>\n",
       "      <th>data</th>\n",
       "    </tr>\n",
       "  </thead>\n",
       "  <tbody>\n",
       "    <tr>\n",
       "      <th>0</th>\n",
       "      <td>0</td>\n",
       "      <td>@switchfoot http://twitpic.com/2y1zl - Awww, that's a bummer.  You shoulda got David Carr of Third Day to do it. ;D</td>\n",
       "    </tr>\n",
       "    <tr>\n",
       "      <th>1</th>\n",
       "      <td>0</td>\n",
       "      <td>is upset that he can't update his Facebook by texting it... and might cry as a result  School today also. Blah!</td>\n",
       "    </tr>\n",
       "    <tr>\n",
       "      <th>2</th>\n",
       "      <td>0</td>\n",
       "      <td>@Kenichan I dived many times for the ball. Managed to save 50%  The rest go out of bounds</td>\n",
       "    </tr>\n",
       "    <tr>\n",
       "      <th>3</th>\n",
       "      <td>0</td>\n",
       "      <td>my whole body feels itchy and like its on fire</td>\n",
       "    </tr>\n",
       "    <tr>\n",
       "      <th>4</th>\n",
       "      <td>0</td>\n",
       "      <td>@nationwideclass no, it's not behaving at all. i'm mad. why am i here? because I can't see you all over there.</td>\n",
       "    </tr>\n",
       "  </tbody>\n",
       "</table>\n",
       "</div>"
      ],
      "text/plain": [
       "   label  \\\n",
       "0      0   \n",
       "1      0   \n",
       "2      0   \n",
       "3      0   \n",
       "4      0   \n",
       "\n",
       "                                                                                                                  data  \n",
       "0  @switchfoot http://twitpic.com/2y1zl - Awww, that's a bummer.  You shoulda got David Carr of Third Day to do it. ;D  \n",
       "1      is upset that he can't update his Facebook by texting it... and might cry as a result  School today also. Blah!  \n",
       "2                            @Kenichan I dived many times for the ball. Managed to save 50%  The rest go out of bounds  \n",
       "3                                                                      my whole body feels itchy and like its on fire   \n",
       "4      @nationwideclass no, it's not behaving at all. i'm mad. why am i here? because I can't see you all over there.   "
      ]
     },
     "execution_count": 6,
     "metadata": {},
     "output_type": "execute_result"
    }
   ],
   "source": [
    "df.head()"
   ]
  },
  {
   "cell_type": "code",
   "execution_count": 7,
   "metadata": {},
   "outputs": [
    {
     "data": {
      "text/plain": [
       "label\n",
       "0    800000\n",
       "4    800000\n",
       "Name: count, dtype: int64"
      ]
     },
     "execution_count": 7,
     "metadata": {},
     "output_type": "execute_result"
    }
   ],
   "source": [
    "df['label'].value_counts()"
   ]
  },
  {
   "cell_type": "markdown",
   "metadata": {},
   "source": [
    "As we can see by value counts, of the 1.6 million tweets in the dataset, half are positive - i.e. score of 4, and half are negative - score = 0."
   ]
  },
  {
   "cell_type": "markdown",
   "metadata": {},
   "source": [
    "### Rule-Based Preprocessing\n",
    "\n",
    "Using several libraries (mainly regex, along with html and string) to filter various unwanted quirks of the data.\n",
    "E.g. Remaining bits of html, non-english characters, redundant whitespace, letter spamming, URLs, Twitter handles, text encoding funk (non ascii/utf8 characters that show up in hex)"
   ]
  },
  {
   "cell_type": "code",
   "execution_count": 8,
   "metadata": {},
   "outputs": [],
   "source": [
    "# Changing the score from a 0-4 scale to a 0-1 scale\n",
    "df['sent'] = df.label.mod(3)"
   ]
  },
  {
   "cell_type": "code",
   "execution_count": 9,
   "metadata": {},
   "outputs": [],
   "source": [
    "# Dropping the deprecated 0-4 scale column\n",
    "df.drop('label', inplace=True, axis=1)"
   ]
  },
  {
   "cell_type": "markdown",
   "metadata": {},
   "source": [
    "Defining functions for removing wonky twitter/html/encoding stuff - preprocessing and whatnot.\n",
    "Regexing out special characters, non ascii, duplicate whitespace, etc."
   ]
  },
  {
   "cell_type": "code",
   "execution_count": 10,
   "metadata": {},
   "outputs": [],
   "source": [
    "# Remove punctuation, links, usernames and text encoding funkiness caused by the weirdness of the encoding situation with the dataset\n",
    "\n",
    "def remove_weirdness(text):\n",
    "    # Un-escaping html funk\n",
    "    text = html.unescape(text)\n",
    "    # Regexing newlines, urls, mentions etc.\n",
    "    text = text.replace('\\r', '').replace('\\n', ' ').lower() \n",
    "    text = re.sub(r\"(?:\\@|https?\\://)\\S+\", \"\", text)\n",
    "    # Remove non ascii/utf8\n",
    "    text = re.sub(r'[^\\x00-\\x7f]',r'', text)\n",
    "    # Removing other funky stuff\n",
    "    banned_list= string.punctuation + 'Ã'+'±'+'ã'+'¼'+'â'+'»'+'§'\n",
    "    table = str.maketrans('', '', banned_list)\n",
    "    text = text.translate(table)\n",
    "    # Removing instances of repeating characters 3+ e.g. hiiiiiii -> hii.  Alot of tweets with excessive rep. char.\n",
    "    text = re.sub(r'(\\w)\\1{2,}', r'\\1\\1', text)\n",
    "    return text\n",
    "\n",
    "# Clean hashtag character in body of tweet, hashtags after the tweet get removed wholesale\n",
    "def clean_hashtags(tweet):\n",
    "    new_tweet = \" \".join(word.strip() for word in re.split('#(?!(?:hashtag)\\b)[\\w-]+(?=(?:\\s+#[\\w-]+)*\\s*$)', tweet)) #rem. post-tweet hashtags\n",
    "    new_tweet2 = \" \".join(word.strip() for word in re.split('#|_', new_tweet)) #remove the \"#\" symbol when within the tweet\n",
    "    return new_tweet2\n",
    "\n",
    "# Filter words containing $ or &\n",
    "def filtering(a):\n",
    "    sent = []\n",
    "    for word in a.split(' '):\n",
    "        if ('$' in word) | ('&' in word):\n",
    "            sent.append('')\n",
    "        else:\n",
    "            sent.append(word)\n",
    "    return ' '.join(sent)\n",
    "\n",
    "# Whitespace pruning\n",
    "def rm_whitespace(text):\n",
    "    return re.sub(\"\\s\\s+\" , \" \", text)\n",
    "\n",
    "# Final helper function, combining all of the above\n",
    "def full_clean(text):\n",
    "    return rm_whitespace(filtering(clean_hashtags(remove_weirdness(text))))"
   ]
  },
  {
   "cell_type": "markdown",
   "metadata": {},
   "source": [
    "Applying the cleaning function defined above to the raw tweet data, and saving it to the tweet column"
   ]
  },
  {
   "cell_type": "code",
   "execution_count": 11,
   "metadata": {},
   "outputs": [
    {
     "name": "stderr",
     "output_type": "stream",
     "text": [
      "  1%|          | 9041/1600000 [00:00<00:34, 45646.31it/s]"
     ]
    },
    {
     "name": "stderr",
     "output_type": "stream",
     "text": [
      "100%|██████████| 1600000/1600000 [00:31<00:00, 50565.69it/s]\n"
     ]
    }
   ],
   "source": [
    "# Apply the full_clean function (which in turn calls all of the various preprocessing steps defined above)\n",
    "df['text'] = df['data'].progress_apply(full_clean)"
   ]
  },
  {
   "cell_type": "code",
   "execution_count": 12,
   "metadata": {},
   "outputs": [],
   "source": [
    "# Dropping pre-cleaning tweets\n",
    "df.drop('data', inplace=True, axis=1)"
   ]
  },
  {
   "cell_type": "code",
   "execution_count": 13,
   "metadata": {},
   "outputs": [
    {
     "data": {
      "text/html": [
       "<div>\n",
       "<style scoped>\n",
       "    .dataframe tbody tr th:only-of-type {\n",
       "        vertical-align: middle;\n",
       "    }\n",
       "\n",
       "    .dataframe tbody tr th {\n",
       "        vertical-align: top;\n",
       "    }\n",
       "\n",
       "    .dataframe thead th {\n",
       "        text-align: right;\n",
       "    }\n",
       "</style>\n",
       "<table border=\"1\" class=\"dataframe\">\n",
       "  <thead>\n",
       "    <tr style=\"text-align: right;\">\n",
       "      <th></th>\n",
       "      <th>sent</th>\n",
       "      <th>text</th>\n",
       "    </tr>\n",
       "  </thead>\n",
       "  <tbody>\n",
       "    <tr>\n",
       "      <th>0</th>\n",
       "      <td>0</td>\n",
       "      <td>aww thats a bummer you shoulda got david carr of third day to do it d</td>\n",
       "    </tr>\n",
       "    <tr>\n",
       "      <th>1</th>\n",
       "      <td>0</td>\n",
       "      <td>is upset that he cant update his facebook by texting it and might cry as a result school today also blah</td>\n",
       "    </tr>\n",
       "    <tr>\n",
       "      <th>2</th>\n",
       "      <td>0</td>\n",
       "      <td>i dived many times for the ball managed to save 50 the rest go out of bounds</td>\n",
       "    </tr>\n",
       "    <tr>\n",
       "      <th>3</th>\n",
       "      <td>0</td>\n",
       "      <td>my whole body feels itchy and like its on fire</td>\n",
       "    </tr>\n",
       "    <tr>\n",
       "      <th>4</th>\n",
       "      <td>0</td>\n",
       "      <td>no its not behaving at all im mad why am i here because i cant see you all over there</td>\n",
       "    </tr>\n",
       "  </tbody>\n",
       "</table>\n",
       "</div>"
      ],
      "text/plain": [
       "   sent  \\\n",
       "0     0   \n",
       "1     0   \n",
       "2     0   \n",
       "3     0   \n",
       "4     0   \n",
       "\n",
       "                                                                                                       text  \n",
       "0                                     aww thats a bummer you shoulda got david carr of third day to do it d  \n",
       "1  is upset that he cant update his facebook by texting it and might cry as a result school today also blah  \n",
       "2                              i dived many times for the ball managed to save 50 the rest go out of bounds  \n",
       "3                                                            my whole body feels itchy and like its on fire  \n",
       "4                     no its not behaving at all im mad why am i here because i cant see you all over there  "
      ]
     },
     "execution_count": 13,
     "metadata": {},
     "output_type": "execute_result"
    }
   ],
   "source": [
    "df.head()"
   ]
  },
  {
   "cell_type": "markdown",
   "metadata": {},
   "source": [
    "Filtering tweets with a wordcount under a certain threshold (<=2)"
   ]
  },
  {
   "cell_type": "code",
   "execution_count": 14,
   "metadata": {},
   "outputs": [],
   "source": [
    "# Helper function to count words (substrings seperated by white space)\n",
    "def word_counter(text):\n",
    "    tweet_len = len(text.split())\n",
    "    return tweet_len"
   ]
  },
  {
   "cell_type": "code",
   "execution_count": 15,
   "metadata": {},
   "outputs": [
    {
     "name": "stderr",
     "output_type": "stream",
     "text": [
      "  0%|          | 0/1600000 [00:00<?, ?it/s]"
     ]
    },
    {
     "name": "stderr",
     "output_type": "stream",
     "text": [
      "100%|██████████| 1600000/1600000 [00:02<00:00, 710059.17it/s]\n"
     ]
    }
   ],
   "source": [
    "# Applying the word_counter function to the tweets in the dataframe, to create the new data_len column\n",
    "df['data_len'] = df['text'].progress_apply(word_counter)"
   ]
  },
  {
   "cell_type": "code",
   "execution_count": 16,
   "metadata": {},
   "outputs": [
    {
     "data": {
      "image/png": "[encoded data removed]",
      "text/plain": [
       "<Figure size 400x240 with 1 Axes>"
      ]
     },
     "metadata": {},
     "output_type": "display_data"
    },
    {
     "data": {
      "text/markdown": [
       "As we can see in the above graph, there were 3595 instances of zero-length tweets, post cleaning"
      ],
      "text/plain": [
       "<IPython.core.display.Markdown object>"
      ]
     },
     "execution_count": 16,
     "metadata": {},
     "output_type": "execute_result"
    }
   ],
   "source": [
    "plt.figure(figsize=(5,3))\n",
    "ax = sns.countplot(x='data_len', data = df[df['data_len']<5], hue = 'data_len', palette = 'mako', legend = False)\n",
    "plt.title('Tweets with less than 5 words')\n",
    "plt.yticks([])\n",
    "ax.bar_label(ax.containers[0])\n",
    "plt.ylabel('count')\n",
    "plt.xlabel('')\n",
    "plt.show()\n",
    "\n",
    "zero_list =df[df['data_len'] == 0]\n",
    "zero_list = len(zero_list['data_len'])\n",
    "md(\"As we can see in the above graph, there were %i instances of zero-length tweets, post cleaning\"%(zero_list))"
   ]
  },
  {
   "cell_type": "code",
   "execution_count": 17,
   "metadata": {},
   "outputs": [
    {
     "name": "stdout",
     "output_type": "stream",
     "text": [
      " df Shape: (1600000, 3)\n"
     ]
    }
   ],
   "source": [
    "print(f\" df Shape: {df.shape}\")"
   ]
  },
  {
   "cell_type": "markdown",
   "metadata": {},
   "source": [
    "Filtering out the examples that have len <= 2 after cleaning:"
   ]
  },
  {
   "cell_type": "code",
   "execution_count": 18,
   "metadata": {},
   "outputs": [
    {
     "name": "stdout",
     "output_type": "stream",
     "text": [
      " df Shape: (1541362, 3)\n"
     ]
    }
   ],
   "source": [
    "df = df[df['data_len'] > 2]\n",
    "\n",
    "# Printing the shape of dataframe after filtering to check how many entries were dropped\n",
    "print(f\" df Shape: {df.shape}\")"
   ]
  },
  {
   "cell_type": "markdown",
   "metadata": {},
   "source": [
    "### DistilBert tokenizer\n",
    "\n",
    "Using the distilbert tokenizer to filter sentences with unusually high token counts relative to maximum tweet length (typical of tweets containing gibberish or repeated strings)"
   ]
  },
  {
   "cell_type": "code",
   "execution_count": 19,
   "metadata": {},
   "outputs": [],
   "source": [
    "#initialize the distilbert tokenizer\n",
    "tokenizer = DistilBertTokenizer.from_pretrained(\"distilbert-base-uncased\")"
   ]
  },
  {
   "cell_type": "code",
   "execution_count": 20,
   "metadata": {},
   "outputs": [],
   "source": [
    "#recieves string as input and returns the token count as encoded by the distilbert tokenizer\n",
    "def dbert_token_counts(text):\n",
    "    tokens = tokenizer.encode(text, max_length=512, truncation=True)\n",
    "    return len(tokens)"
   ]
  },
  {
   "cell_type": "code",
   "execution_count": 21,
   "metadata": {},
   "outputs": [
    {
     "name": "stderr",
     "output_type": "stream",
     "text": [
      "100%|██████████| 1541362/1541362 [06:57<00:00, 3688.43it/s]\n"
     ]
    }
   ],
   "source": [
    "#creating a token_lens column in the data frame by applying the dbert_token_counts function to the tweet column\n",
    "df['token_lens'] = df['text'].progress_apply(dbert_token_counts)"
   ]
  },
  {
   "cell_type": "code",
   "execution_count": 22,
   "metadata": {},
   "outputs": [],
   "source": [
    "#sort by highest token counts\n",
    "df = df.sort_values(by='token_lens', ascending=False)"
   ]
  },
  {
   "cell_type": "code",
   "execution_count": 23,
   "metadata": {},
   "outputs": [
    {
     "data": {
      "text/html": [
       "<div>\n",
       "<style scoped>\n",
       "    .dataframe tbody tr th:only-of-type {\n",
       "        vertical-align: middle;\n",
       "    }\n",
       "\n",
       "    .dataframe tbody tr th {\n",
       "        vertical-align: top;\n",
       "    }\n",
       "\n",
       "    .dataframe thead th {\n",
       "        text-align: right;\n",
       "    }\n",
       "</style>\n",
       "<table border=\"1\" class=\"dataframe\">\n",
       "  <thead>\n",
       "    <tr style=\"text-align: right;\">\n",
       "      <th></th>\n",
       "      <th>sent</th>\n",
       "      <th>text</th>\n",
       "      <th>data_len</th>\n",
       "      <th>token_lens</th>\n",
       "    </tr>\n",
       "  </thead>\n",
       "  <tbody>\n",
       "    <tr>\n",
       "      <th>270191</th>\n",
       "      <td>0</td>\n",
       "      <td>hi7dp3ar3of2mm2or 2ar3ac3 m hi7of3rr9of3vd1bi9 mm1 hi7of3rr9of3vd1jr1pg2 mm2 hi7of3rr9of3vd1fc2 hr 9hi7rn 1vd1kb 9</td>\n",
       "      <td>12</td>\n",
       "      <td>73</td>\n",
       "    </tr>\n",
       "    <tr>\n",
       "      <th>1466515</th>\n",
       "      <td>1</td>\n",
       "      <td>80th tweet tweet tweet tweet tweet tweet tweet tweet tweet tweet tweet tweet tweet tweet tweet tweet tweet tweet tweet tweet tweet</td>\n",
       "      <td>22</td>\n",
       "      <td>67</td>\n",
       "    </tr>\n",
       "    <tr>\n",
       "      <th>1517866</th>\n",
       "      <td>1</td>\n",
       "      <td>ohhushfornewmoon ohhushfornewmoon ohhushfornewmoon ohhushfornewmoon ohhushfornewmoon ohhushfornewmoon ohhushfornewmoon</td>\n",
       "      <td>7</td>\n",
       "      <td>58</td>\n",
       "    </tr>\n",
       "    <tr>\n",
       "      <th>1389742</th>\n",
       "      <td>1</td>\n",
       "      <td>oh whyd you need cheering titstitstitstitstitstitstitstitstitstitstitstitstitstitstitstitstitstitstitstitstitstitstitstitstits</td>\n",
       "      <td>6</td>\n",
       "      <td>57</td>\n",
       "    </tr>\n",
       "    <tr>\n",
       "      <th>148200</th>\n",
       "      <td>0</td>\n",
       "      <td>thats what ill end up doing no lie ughghghghiehihwehgweiohrow3i74892qf7897389472bcv85v7837v723897cv288</td>\n",
       "      <td>9</td>\n",
       "      <td>56</td>\n",
       "    </tr>\n",
       "  </tbody>\n",
       "</table>\n",
       "</div>"
      ],
      "text/plain": [
       "         sent  \\\n",
       "270191      0   \n",
       "1466515     1   \n",
       "1517866     1   \n",
       "1389742     1   \n",
       "148200      0   \n",
       "\n",
       "                                                                                                                                       text  \\\n",
       "270191                   hi7dp3ar3of2mm2or 2ar3ac3 m hi7of3rr9of3vd1bi9 mm1 hi7of3rr9of3vd1jr1pg2 mm2 hi7of3rr9of3vd1fc2 hr 9hi7rn 1vd1kb 9   \n",
       "1466515  80th tweet tweet tweet tweet tweet tweet tweet tweet tweet tweet tweet tweet tweet tweet tweet tweet tweet tweet tweet tweet tweet   \n",
       "1517866              ohhushfornewmoon ohhushfornewmoon ohhushfornewmoon ohhushfornewmoon ohhushfornewmoon ohhushfornewmoon ohhushfornewmoon   \n",
       "1389742      oh whyd you need cheering titstitstitstitstitstitstitstitstitstitstitstitstitstitstitstitstitstitstitstitstitstitstitstitstits   \n",
       "148200                               thats what ill end up doing no lie ughghghghiehihwehgweiohrow3i74892qf7897389472bcv85v7837v723897cv288   \n",
       "\n",
       "         data_len  token_lens  \n",
       "270191         12          73  \n",
       "1466515        22          67  \n",
       "1517866         7          58  \n",
       "1389742         6          57  \n",
       "148200          9          56  "
      ]
     },
     "execution_count": 23,
     "metadata": {},
     "output_type": "execute_result"
    }
   ],
   "source": [
    "df.head()"
   ]
  },
  {
   "cell_type": "code",
   "execution_count": 24,
   "metadata": {},
   "outputs": [
    {
     "data": {
      "text/html": [
       "<div>\n",
       "<style scoped>\n",
       "    .dataframe tbody tr th:only-of-type {\n",
       "        vertical-align: middle;\n",
       "    }\n",
       "\n",
       "    .dataframe tbody tr th {\n",
       "        vertical-align: top;\n",
       "    }\n",
       "\n",
       "    .dataframe thead th {\n",
       "        text-align: right;\n",
       "    }\n",
       "</style>\n",
       "<table border=\"1\" class=\"dataframe\">\n",
       "  <thead>\n",
       "    <tr style=\"text-align: right;\">\n",
       "      <th></th>\n",
       "      <th>sent</th>\n",
       "      <th>text</th>\n",
       "      <th>data_len</th>\n",
       "      <th>token_lens</th>\n",
       "    </tr>\n",
       "  </thead>\n",
       "  <tbody>\n",
       "    <tr>\n",
       "      <th>253045</th>\n",
       "      <td>0</td>\n",
       "      <td>my sis got in the mail the complete series of charmed we hav not watchd it in yrs so sad i rememba wen pru died cant wait to wach it</td>\n",
       "      <td>30</td>\n",
       "      <td>41</td>\n",
       "    </tr>\n",
       "    <tr>\n",
       "      <th>397777</th>\n",
       "      <td>0</td>\n",
       "      <td>totally stressed out rite nw college wrk mounting up wish i cud hav hd time to gt it dne ystrday and hand it in wayy 2 mch 2 do d</td>\n",
       "      <td>30</td>\n",
       "      <td>41</td>\n",
       "    </tr>\n",
       "    <tr>\n",
       "      <th>369996</th>\n",
       "      <td>0</td>\n",
       "      <td>at skool this 1 guy askd me 2 b his gf i said no in the most kindest way i can think of it was nervewracking i stil feel bad urg</td>\n",
       "      <td>31</td>\n",
       "      <td>41</td>\n",
       "    </tr>\n",
       "    <tr>\n",
       "      <th>447810</th>\n",
       "      <td>0</td>\n",
       "      <td>went to fridays had a gop nd a ultamite margarita all n 30 mins boss too off to see the laker game had to go back to wkr im so buzzn</td>\n",
       "      <td>31</td>\n",
       "      <td>41</td>\n",
       "    </tr>\n",
       "    <tr>\n",
       "      <th>1470695</th>\n",
       "      <td>1</td>\n",
       "      <td>omg cant wait to hear all about it when we drive up 2gether cant wait 2 see vids lol be safe drivin home k ttys hugz nessa</td>\n",
       "      <td>27</td>\n",
       "      <td>41</td>\n",
       "    </tr>\n",
       "  </tbody>\n",
       "</table>\n",
       "</div>"
      ],
      "text/plain": [
       "         sent  \\\n",
       "253045      0   \n",
       "397777      0   \n",
       "369996      0   \n",
       "447810      0   \n",
       "1470695     1   \n",
       "\n",
       "                                                                                                                                         text  \\\n",
       "253045   my sis got in the mail the complete series of charmed we hav not watchd it in yrs so sad i rememba wen pru died cant wait to wach it   \n",
       "397777      totally stressed out rite nw college wrk mounting up wish i cud hav hd time to gt it dne ystrday and hand it in wayy 2 mch 2 do d   \n",
       "369996       at skool this 1 guy askd me 2 b his gf i said no in the most kindest way i can think of it was nervewracking i stil feel bad urg   \n",
       "447810   went to fridays had a gop nd a ultamite margarita all n 30 mins boss too off to see the laker game had to go back to wkr im so buzzn   \n",
       "1470695            omg cant wait to hear all about it when we drive up 2gether cant wait 2 see vids lol be safe drivin home k ttys hugz nessa   \n",
       "\n",
       "         data_len  token_lens  \n",
       "253045         30          41  \n",
       "397777         30          41  \n",
       "369996         31          41  \n",
       "447810         31          41  \n",
       "1470695        27          41  "
      ]
     },
     "execution_count": 24,
     "metadata": {},
     "output_type": "execute_result"
    }
   ],
   "source": [
    "# Pruning the top 1000 tweets with abnormally high token counts\n",
    "df = df.iloc[1000:]\n",
    "df.head()"
   ]
  },
  {
   "cell_type": "code",
   "execution_count": 25,
   "metadata": {},
   "outputs": [],
   "source": [
    "df.to_csv('data_clean.csv', index=False, sep='\\t')"
   ]
  }
 ],
 "metadata": {
  "kernelspec": {
   "display_name": "venv",
   "language": "python",
   "name": "python3"
  },
  "language_info": {
   "codemirror_mode": {
    "name": "ipython",
    "version": 3
   },
   "file_extension": ".py",
   "mimetype": "text/x-python",
   "name": "python",
   "nbconvert_exporter": "python",
   "pygments_lexer": "ipython3",
   "version": "3.10.5"
  }
 },
 "nbformat": 4,
 "nbformat_minor": 2
}
